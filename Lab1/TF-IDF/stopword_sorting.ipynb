{
 "cells": [
  {
   "cell_type": "code",
   "execution_count": 1,
   "metadata": {},
   "outputs": [],
   "source": [
    "import pandas as pd\n",
    "from collections import Counter\n",
    "import matplotlib.pyplot as plt\n"
   ]
  },
  {
   "cell_type": "code",
   "execution_count": 2,
   "metadata": {},
   "outputs": [
    {
     "data": {
      "text/html": [
       "<div>\n",
       "<style scoped>\n",
       "    .dataframe tbody tr th:only-of-type {\n",
       "        vertical-align: middle;\n",
       "    }\n",
       "\n",
       "    .dataframe tbody tr th {\n",
       "        vertical-align: top;\n",
       "    }\n",
       "\n",
       "    .dataframe thead th {\n",
       "        text-align: right;\n",
       "    }\n",
       "</style>\n",
       "<table border=\"1\" class=\"dataframe\">\n",
       "  <thead>\n",
       "    <tr style=\"text-align: right;\">\n",
       "      <th></th>\n",
       "      <th>Comment</th>\n",
       "      <th>React</th>\n",
       "      <th>Type</th>\n",
       "    </tr>\n",
       "  </thead>\n",
       "  <tbody>\n",
       "    <tr>\n",
       "      <th>0</th>\n",
       "      <td>খুব সুন্দর হয়েছে আপু</td>\n",
       "      <td>1</td>\n",
       "      <td>Positive</td>\n",
       "    </tr>\n",
       "    <tr>\n",
       "      <th>1</th>\n",
       "      <td>আমার অনেক কষ্ট হয় মেকআপ করতে  অনেক সুন্দর লাগছ...</td>\n",
       "      <td>0</td>\n",
       "      <td>Positive</td>\n",
       "    </tr>\n",
       "    <tr>\n",
       "      <th>2</th>\n",
       "      <td>আপু মেকআপ খুব সুন্দর হয়েছে, আমার কাছে অনেক ভাল...</td>\n",
       "      <td>2</td>\n",
       "      <td>Positive</td>\n",
       "    </tr>\n",
       "    <tr>\n",
       "      <th>3</th>\n",
       "      <td>আপু পেছনের দেয়ালের রং টার জন্য লাইট টা বেশি ফ...</td>\n",
       "      <td>8</td>\n",
       "      <td>Positive</td>\n",
       "    </tr>\n",
       "    <tr>\n",
       "      <th>4</th>\n",
       "      <td>মাস-আল্লাহ খুব সুন্দর হয়েছে কিউট আপু</td>\n",
       "      <td>0</td>\n",
       "      <td>Positive</td>\n",
       "    </tr>\n",
       "  </tbody>\n",
       "</table>\n",
       "</div>"
      ],
      "text/plain": [
       "                                             Comment React      Type\n",
       "0                              খুব সুন্দর হয়েছে আপু     1  Positive\n",
       "1  আমার অনেক কষ্ট হয় মেকআপ করতে  অনেক সুন্দর লাগছ...     0  Positive\n",
       "2  আপু মেকআপ খুব সুন্দর হয়েছে, আমার কাছে অনেক ভাল...     2  Positive\n",
       "3  আপু পেছনের দেয়ালের রং টার জন্য লাইট টা বেশি ফ...     8  Positive\n",
       "4               মাস-আল্লাহ খুব সুন্দর হয়েছে কিউট আপু     0  Positive"
      ]
     },
     "execution_count": 2,
     "metadata": {},
     "output_type": "execute_result"
    }
   ],
   "source": [
    "# Replace 'your_dataset.xlsx' with the actual file name\n",
    "file_path = 'Cooking and Makeup Video.xlsx'\n",
    "df = pd.read_excel(file_path)\n",
    "\n",
    "# Display the first few rows to verify\n",
    "df.head()\n"
   ]
  },
  {
   "cell_type": "code",
   "execution_count": 3,
   "metadata": {},
   "outputs": [
    {
     "data": {
      "text/html": [
       "<div>\n",
       "<style scoped>\n",
       "    .dataframe tbody tr th:only-of-type {\n",
       "        vertical-align: middle;\n",
       "    }\n",
       "\n",
       "    .dataframe tbody tr th {\n",
       "        vertical-align: top;\n",
       "    }\n",
       "\n",
       "    .dataframe thead th {\n",
       "        text-align: right;\n",
       "    }\n",
       "</style>\n",
       "<table border=\"1\" class=\"dataframe\">\n",
       "  <thead>\n",
       "    <tr style=\"text-align: right;\">\n",
       "      <th></th>\n",
       "      <th>Unigram</th>\n",
       "      <th>Frequency</th>\n",
       "    </tr>\n",
       "  </thead>\n",
       "  <tbody>\n",
       "    <tr>\n",
       "      <th>3</th>\n",
       "      <td>আপু</td>\n",
       "      <td>4575</td>\n",
       "    </tr>\n",
       "    <tr>\n",
       "      <th>43</th>\n",
       "      <td>না</td>\n",
       "      <td>4275</td>\n",
       "    </tr>\n",
       "    <tr>\n",
       "      <th>13</th>\n",
       "      <td>ভালো</td>\n",
       "      <td>4241</td>\n",
       "    </tr>\n",
       "    <tr>\n",
       "      <th>0</th>\n",
       "      <td>খুব</td>\n",
       "      <td>3880</td>\n",
       "    </tr>\n",
       "    <tr>\n",
       "      <th>5</th>\n",
       "      <td>অনেক</td>\n",
       "      <td>3572</td>\n",
       "    </tr>\n",
       "    <tr>\n",
       "      <th>153</th>\n",
       "      <td>কি</td>\n",
       "      <td>3432</td>\n",
       "    </tr>\n",
       "    <tr>\n",
       "      <th>41</th>\n",
       "      <td>আমি</td>\n",
       "      <td>3079</td>\n",
       "    </tr>\n",
       "    <tr>\n",
       "      <th>4</th>\n",
       "      <td>আমার</td>\n",
       "      <td>2965</td>\n",
       "    </tr>\n",
       "    <tr>\n",
       "      <th>1</th>\n",
       "      <td>সুন্দর</td>\n",
       "      <td>2750</td>\n",
       "    </tr>\n",
       "    <tr>\n",
       "      <th>111</th>\n",
       "      <td>করে</td>\n",
       "      <td>2586</td>\n",
       "    </tr>\n",
       "  </tbody>\n",
       "</table>\n",
       "</div>"
      ],
      "text/plain": [
       "    Unigram  Frequency\n",
       "3       আপু       4575\n",
       "43       না       4275\n",
       "13     ভালো       4241\n",
       "0       খুব       3880\n",
       "5      অনেক       3572\n",
       "153      কি       3432\n",
       "41      আমি       3079\n",
       "4      আমার       2965\n",
       "1    সুন্দর       2750\n",
       "111     করে       2586"
      ]
     },
     "execution_count": 3,
     "metadata": {},
     "output_type": "execute_result"
    }
   ],
   "source": [
    "import re\n",
    "\n",
    "# Preprocessing and tokenization function\n",
    "def tokenize(text):\n",
    "    # Replace punctuation with spaces and split into words\n",
    "    text = re.sub(r'[^\\u0980-\\u09FFa-zA-Z0-9]', ' ', str(text))  # Keep Bangla and English characters\n",
    "    return text.split()\n",
    "\n",
    "# Tokenize all comments and count unigrams\n",
    "all_tokens = []\n",
    "df['Comment'] = df['Comment'].fillna('')  # Replace NaN with empty strings\n",
    "for comment in df['Comment']:\n",
    "    all_tokens.extend(tokenize(comment))\n",
    "\n",
    "# Count unigram frequencies\n",
    "unigram_counts = Counter(all_tokens)\n",
    "\n",
    "# Convert to a DataFrame for sorting and visualization\n",
    "unigram_df = pd.DataFrame(unigram_counts.items(), columns=['Unigram', 'Frequency']).sort_values(by='Frequency', ascending=False)\n",
    "\n",
    "# Display the top 10 unigrams\n",
    "unigram_df.head(10)\n"
   ]
  },
  {
   "cell_type": "code",
   "execution_count": 4,
   "metadata": {},
   "outputs": [
    {
     "name": "stdout",
     "output_type": "stream",
     "text": [
      "Top 30% unigrams saved to stopwold.txt\n"
     ]
    }
   ],
   "source": [
    "# Calculate the number of unigrams to include (top 30%)\n",
    "top_30_percent_count = int(len(unigram_df) * 0.3)\n",
    "\n",
    "# Get the top 30% unigrams\n",
    "top_30_percent_unigrams = unigram_df.head(top_30_percent_count)\n",
    "\n",
    "# Save the unigrams to a text file\n",
    "output_text_file = 'stopwold.txt'\n",
    "with open(output_text_file, 'w', encoding='utf-8') as f:\n",
    "    for unigram in top_30_percent_unigrams['Unigram']:\n",
    "        f.write(f\"{unigram}\\n\")\n",
    "\n",
    "print(f\"Top 30% unigrams saved to {output_text_file}\")\n"
   ]
  },
  {
   "cell_type": "code",
   "execution_count": 5,
   "metadata": {},
   "outputs": [
    {
     "name": "stdout",
     "output_type": "stream",
     "text": [
      "Unigram frequencies saved to unigram_frequencies.xlsx\n"
     ]
    }
   ],
   "source": [
    "# Save the unigram frequencies to an Excel file\n",
    "output_path = 'unigram_frequencies.xlsx'\n",
    "unigram_df.to_excel(output_path, index=False)\n",
    "print(f\"Unigram frequencies saved to {output_path}\")\n"
   ]
  },
  {
   "cell_type": "code",
   "execution_count": null,
   "metadata": {},
   "outputs": [],
   "source": []
  }
 ],
 "metadata": {
  "kernelspec": {
   "display_name": "Python 3 (ipykernel)",
   "language": "python",
   "name": "python3"
  },
  "language_info": {
   "codemirror_mode": {
    "name": "ipython",
    "version": 3
   },
   "file_extension": ".py",
   "mimetype": "text/x-python",
   "name": "python",
   "nbconvert_exporter": "python",
   "pygments_lexer": "ipython3",
   "version": "3.12.7"
  }
 },
 "nbformat": 4,
 "nbformat_minor": 4
}
